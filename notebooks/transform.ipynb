{
 "cells": [
  {
   "cell_type": "code",
   "execution_count": 1,
   "outputs": [],
   "source": [
    "import numpy as np\n",
    "import pandas as pd"
   ],
   "metadata": {
    "collapsed": false,
    "ExecuteTime": {
     "end_time": "2023-06-07T13:25:45.069922Z",
     "start_time": "2023-06-07T13:25:43.475467Z"
    }
   }
  },
  {
   "cell_type": "code",
   "execution_count": 4,
   "outputs": [
    {
     "data": {
      "text/plain": "   Unnamed: 0  PERSON_ID PLAYER_LAST_NAME PLAYER_FIRST_NAME  \\\n0           0      76001        Abdelnaby              Alaa   \n1           1      76002       Abdul-Aziz              Zaid   \n2           2      76003     Abdul-Jabbar            Kareem   \n3           3         51       Abdul-Rauf           Mahmoud   \n4           4       1505      Abdul-Wahad             Tariq   \n\n           PLAYER_SLUG     TEAM_ID TEAM_SLUG  IS_DEFUNCT    TEAM_CITY  \\\n0       alaa-abdelnaby  1610612757   blazers           0     Portland   \n1      zaid-abdul-aziz  1610612745   rockets           0      Houston   \n2  kareem-abdul-jabbar  1610612747    lakers           0  Los Angeles   \n3   mahmoud-abdul-rauf  1610612743   nuggets           0       Denver   \n4    tariq-abdul-wahad  1610612758     kings           0   Sacramento   \n\n       TEAM_NAME  ... DRAFT_YEAR DRAFT_ROUND DRAFT_NUMBER ROSTER_STATUS   PTS  \\\n0  Trail Blazers  ...     1990.0         1.0         25.0           NaN   5.7   \n1        Rockets  ...     1968.0         1.0          5.0           NaN   9.0   \n2         Lakers  ...     1969.0         1.0          1.0           NaN  24.6   \n3        Nuggets  ...     1990.0         1.0          3.0           NaN  14.6   \n4          Kings  ...     1997.0         1.0         11.0           NaN   7.8   \n\n    REB  AST  STATS_TIMEFRAME  FROM_YEAR  TO_YEAR  \n0   3.3  0.3           Career       1990     1994  \n1   8.0  1.2           Career       1968     1977  \n2  11.2  3.6           Career       1969     1988  \n3   1.9  3.5           Career       1990     2000  \n4   3.3  1.1           Career       1997     2003  \n\n[5 rows x 27 columns]",
      "text/html": "<div>\n<style scoped>\n    .dataframe tbody tr th:only-of-type {\n        vertical-align: middle;\n    }\n\n    .dataframe tbody tr th {\n        vertical-align: top;\n    }\n\n    .dataframe thead th {\n        text-align: right;\n    }\n</style>\n<table border=\"1\" class=\"dataframe\">\n  <thead>\n    <tr style=\"text-align: right;\">\n      <th></th>\n      <th>Unnamed: 0</th>\n      <th>PERSON_ID</th>\n      <th>PLAYER_LAST_NAME</th>\n      <th>PLAYER_FIRST_NAME</th>\n      <th>PLAYER_SLUG</th>\n      <th>TEAM_ID</th>\n      <th>TEAM_SLUG</th>\n      <th>IS_DEFUNCT</th>\n      <th>TEAM_CITY</th>\n      <th>TEAM_NAME</th>\n      <th>...</th>\n      <th>DRAFT_YEAR</th>\n      <th>DRAFT_ROUND</th>\n      <th>DRAFT_NUMBER</th>\n      <th>ROSTER_STATUS</th>\n      <th>PTS</th>\n      <th>REB</th>\n      <th>AST</th>\n      <th>STATS_TIMEFRAME</th>\n      <th>FROM_YEAR</th>\n      <th>TO_YEAR</th>\n    </tr>\n  </thead>\n  <tbody>\n    <tr>\n      <th>0</th>\n      <td>0</td>\n      <td>76001</td>\n      <td>Abdelnaby</td>\n      <td>Alaa</td>\n      <td>alaa-abdelnaby</td>\n      <td>1610612757</td>\n      <td>blazers</td>\n      <td>0</td>\n      <td>Portland</td>\n      <td>Trail Blazers</td>\n      <td>...</td>\n      <td>1990.0</td>\n      <td>1.0</td>\n      <td>25.0</td>\n      <td>NaN</td>\n      <td>5.7</td>\n      <td>3.3</td>\n      <td>0.3</td>\n      <td>Career</td>\n      <td>1990</td>\n      <td>1994</td>\n    </tr>\n    <tr>\n      <th>1</th>\n      <td>1</td>\n      <td>76002</td>\n      <td>Abdul-Aziz</td>\n      <td>Zaid</td>\n      <td>zaid-abdul-aziz</td>\n      <td>1610612745</td>\n      <td>rockets</td>\n      <td>0</td>\n      <td>Houston</td>\n      <td>Rockets</td>\n      <td>...</td>\n      <td>1968.0</td>\n      <td>1.0</td>\n      <td>5.0</td>\n      <td>NaN</td>\n      <td>9.0</td>\n      <td>8.0</td>\n      <td>1.2</td>\n      <td>Career</td>\n      <td>1968</td>\n      <td>1977</td>\n    </tr>\n    <tr>\n      <th>2</th>\n      <td>2</td>\n      <td>76003</td>\n      <td>Abdul-Jabbar</td>\n      <td>Kareem</td>\n      <td>kareem-abdul-jabbar</td>\n      <td>1610612747</td>\n      <td>lakers</td>\n      <td>0</td>\n      <td>Los Angeles</td>\n      <td>Lakers</td>\n      <td>...</td>\n      <td>1969.0</td>\n      <td>1.0</td>\n      <td>1.0</td>\n      <td>NaN</td>\n      <td>24.6</td>\n      <td>11.2</td>\n      <td>3.6</td>\n      <td>Career</td>\n      <td>1969</td>\n      <td>1988</td>\n    </tr>\n    <tr>\n      <th>3</th>\n      <td>3</td>\n      <td>51</td>\n      <td>Abdul-Rauf</td>\n      <td>Mahmoud</td>\n      <td>mahmoud-abdul-rauf</td>\n      <td>1610612743</td>\n      <td>nuggets</td>\n      <td>0</td>\n      <td>Denver</td>\n      <td>Nuggets</td>\n      <td>...</td>\n      <td>1990.0</td>\n      <td>1.0</td>\n      <td>3.0</td>\n      <td>NaN</td>\n      <td>14.6</td>\n      <td>1.9</td>\n      <td>3.5</td>\n      <td>Career</td>\n      <td>1990</td>\n      <td>2000</td>\n    </tr>\n    <tr>\n      <th>4</th>\n      <td>4</td>\n      <td>1505</td>\n      <td>Abdul-Wahad</td>\n      <td>Tariq</td>\n      <td>tariq-abdul-wahad</td>\n      <td>1610612758</td>\n      <td>kings</td>\n      <td>0</td>\n      <td>Sacramento</td>\n      <td>Kings</td>\n      <td>...</td>\n      <td>1997.0</td>\n      <td>1.0</td>\n      <td>11.0</td>\n      <td>NaN</td>\n      <td>7.8</td>\n      <td>3.3</td>\n      <td>1.1</td>\n      <td>Career</td>\n      <td>1997</td>\n      <td>2003</td>\n    </tr>\n  </tbody>\n</table>\n<p>5 rows × 27 columns</p>\n</div>"
     },
     "execution_count": 4,
     "metadata": {},
     "output_type": "execute_result"
    }
   ],
   "source": [
    "nba_player_index= pd.read_csv('../data/player_index.csv')\n",
    "nba_player_index.head()"
   ],
   "metadata": {
    "collapsed": false,
    "ExecuteTime": {
     "end_time": "2023-06-07T13:41:54.327058Z",
     "start_time": "2023-06-07T13:41:54.276469Z"
    }
   }
  }
 ],
 "metadata": {
  "kernelspec": {
   "display_name": "Python 3",
   "language": "python",
   "name": "python3"
  },
  "language_info": {
   "codemirror_mode": {
    "name": "ipython",
    "version": 2
   },
   "file_extension": ".py",
   "mimetype": "text/x-python",
   "name": "python",
   "nbconvert_exporter": "python",
   "pygments_lexer": "ipython2",
   "version": "2.7.6"
  }
 },
 "nbformat": 4,
 "nbformat_minor": 0
}
